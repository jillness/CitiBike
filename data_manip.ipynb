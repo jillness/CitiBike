{
 "cells": [
  {
   "cell_type": "code",
   "execution_count": 77,
   "metadata": {
    "collapsed": true
   },
   "outputs": [],
   "source": [
    "import pandas as pd\n",
    "import numpy as np\n",
    "from datetime import datetime\n",
    "from geopy.distance import geodesic"
   ]
  },
  {
   "cell_type": "code",
   "execution_count": 78,
   "metadata": {
    "collapsed": true
   },
   "outputs": [],
   "source": [
    "csv_list = ['../old data/JC-201806-citibike-tripdata.csv', '../old data/JC-201805-citibike-tripdata.csv', '../old data/JC-201804-citibike-tripdata.csv', \n",
    "            '../old data/201803_citibikejc_tripdata.csv', '../old data/201802_citibikejc_tripdata.csv', '../old data/201801_citibikejc_tripdata.csv',\n",
    "            '../old data/JC-201712-citibike-tripdata.csv', '../old data/JC-201711-citibike-tripdata.csv', '../old data/JC-201710-citibike-tripdata.csv', \n",
    "            '../old data/JC-201709-citibike-tripdata.csv', '../old data/JC-201708 citibike-tripdata.csv', '../old data/JC-201707-citibike-tripdata.csv',\n",
    "            '../old data/JC-201706-citibike-tripdata.csv',\n",
    "           ]\n",
    "\n",
    "df_list = []\n",
    "\n",
    "for csv in csv_list:\n",
    "    \n",
    "    starttime = []\n",
    "    stoptime = []\n",
    "    startdate = []\n",
    "    stopdate = []\n",
    "\n",
    "    df = pd.read_csv(csv)\n",
    "    \n",
    "    for index, row in df.iterrows():\n",
    "        old_start_date = row['starttime']\n",
    "        old_stop_date = row['stoptime']\n",
    "        \n",
    "        startdate.append(old_start_date[0:10])\n",
    "        starttime.append(old_start_date[11:19])\n",
    "        stopdate.append(old_stop_date[0:10])\n",
    "        stoptime.append(old_stop_date[11:19])\n",
    "\n",
    "    df['startdate'] = startdate\n",
    "    df['stopdate'] = stopdate\n",
    "    df['starthour'] = starttime\n",
    "    df['stophour'] = stoptime\n",
    "    \n",
    "    df_list.append(df)\n"
   ]
  },
  {
   "cell_type": "code",
   "execution_count": 79,
   "metadata": {
    "collapsed": true
   },
   "outputs": [],
   "source": [
    "for df in df_list:\n",
    "    \n",
    "    distance = []\n",
    "    \n",
    "    for index, row in df.iterrows():\n",
    "        start = row['start station latitude'], row['start station longitude']\n",
    "        end = row['end station latitude'], row['end station longitude']\n",
    "        distance.append(geodesic(start, end).miles)\n",
    "        \n",
    "    df['distance between stations (mi)'] = distance\n"
   ]
  },
  {
   "cell_type": "code",
   "execution_count": 84,
   "metadata": {
    "collapsed": true
   },
   "outputs": [],
   "source": [
    "df = pd.concat(df_list)\n",
    "df = df.drop(['end station id', 'start station id', 'usertype', 'bikeid', 'name_localizedValue0'], axis=1)\n",
    "df = df.reset_index(drop=True)"
   ]
  },
  {
   "cell_type": "code",
   "execution_count": 87,
   "metadata": {
    "collapsed": true
   },
   "outputs": [],
   "source": [
    "[june2018_df, may2018_df, april2018_df, \n",
    " march2018_df, feb2018_df, jan2018_df, \n",
    " dec2017_df, nov2017_df, oct2017_df, \n",
    " sep2017_df, aug2017_df, july2017_df, june2017_df] = df_list"
   ]
  },
  {
   "cell_type": "code",
   "execution_count": 88,
   "metadata": {},
   "outputs": [
    {
     "data": {
      "text/plain": [
       "352539"
      ]
     },
     "execution_count": 88,
     "metadata": {},
     "output_type": "execute_result"
    }
   ],
   "source": [
    "len(df)"
   ]
  },
  {
   "cell_type": "code",
   "execution_count": 85,
   "metadata": {},
   "outputs": [
    {
     "data": {
      "text/html": [
       "<div>\n",
       "<style>\n",
       "    .dataframe thead tr:only-child th {\n",
       "        text-align: right;\n",
       "    }\n",
       "\n",
       "    .dataframe thead th {\n",
       "        text-align: left;\n",
       "    }\n",
       "\n",
       "    .dataframe tbody tr th {\n",
       "        vertical-align: top;\n",
       "    }\n",
       "</style>\n",
       "<table border=\"1\" class=\"dataframe\">\n",
       "  <thead>\n",
       "    <tr style=\"text-align: right;\">\n",
       "      <th></th>\n",
       "      <th>birth year</th>\n",
       "      <th>distance between stations (mi)</th>\n",
       "      <th>end station latitude</th>\n",
       "      <th>end station longitude</th>\n",
       "      <th>end station name</th>\n",
       "      <th>gender</th>\n",
       "      <th>start station latitude</th>\n",
       "      <th>start station longitude</th>\n",
       "      <th>start station name</th>\n",
       "      <th>startdate</th>\n",
       "      <th>starthour</th>\n",
       "      <th>starttime</th>\n",
       "      <th>stopdate</th>\n",
       "      <th>stophour</th>\n",
       "      <th>stoptime</th>\n",
       "      <th>tripduration</th>\n",
       "    </tr>\n",
       "  </thead>\n",
       "  <tbody>\n",
       "    <tr>\n",
       "      <th>0</th>\n",
       "      <td>1991.0</td>\n",
       "      <td>0.504560</td>\n",
       "      <td>40.714584</td>\n",
       "      <td>-74.042817</td>\n",
       "      <td>Marin Light Rail</td>\n",
       "      <td>1</td>\n",
       "      <td>40.716247</td>\n",
       "      <td>-74.033459</td>\n",
       "      <td>Exchange Place</td>\n",
       "      <td>2018-06-01</td>\n",
       "      <td>07:07:00</td>\n",
       "      <td>2018-06-01 07:07:00.2990</td>\n",
       "      <td>2018-06-01</td>\n",
       "      <td>07:12:30</td>\n",
       "      <td>2018-06-01 07:12:30.2220</td>\n",
       "      <td>329</td>\n",
       "    </tr>\n",
       "    <tr>\n",
       "      <th>1</th>\n",
       "      <td>1989.0</td>\n",
       "      <td>0.374889</td>\n",
       "      <td>40.712419</td>\n",
       "      <td>-74.038526</td>\n",
       "      <td>Morris Canal</td>\n",
       "      <td>2</td>\n",
       "      <td>40.716247</td>\n",
       "      <td>-74.033459</td>\n",
       "      <td>Exchange Place</td>\n",
       "      <td>2018-06-01</td>\n",
       "      <td>08:24:43</td>\n",
       "      <td>2018-06-01 08:24:43.8490</td>\n",
       "      <td>2018-06-01</td>\n",
       "      <td>08:29:03</td>\n",
       "      <td>2018-06-01 08:29:03.8450</td>\n",
       "      <td>259</td>\n",
       "    </tr>\n",
       "    <tr>\n",
       "      <th>2</th>\n",
       "      <td>1990.0</td>\n",
       "      <td>0.757575</td>\n",
       "      <td>40.727224</td>\n",
       "      <td>-74.033759</td>\n",
       "      <td>Newport PATH</td>\n",
       "      <td>1</td>\n",
       "      <td>40.716247</td>\n",
       "      <td>-74.033459</td>\n",
       "      <td>Exchange Place</td>\n",
       "      <td>2018-06-01</td>\n",
       "      <td>09:17:49</td>\n",
       "      <td>2018-06-01 09:17:49.5730</td>\n",
       "      <td>2018-06-01</td>\n",
       "      <td>09:29:16</td>\n",
       "      <td>2018-06-01 09:29:16.1770</td>\n",
       "      <td>686</td>\n",
       "    </tr>\n",
       "    <tr>\n",
       "      <th>3</th>\n",
       "      <td>1993.0</td>\n",
       "      <td>0.374889</td>\n",
       "      <td>40.712419</td>\n",
       "      <td>-74.038526</td>\n",
       "      <td>Morris Canal</td>\n",
       "      <td>1</td>\n",
       "      <td>40.716247</td>\n",
       "      <td>-74.033459</td>\n",
       "      <td>Exchange Place</td>\n",
       "      <td>2018-06-01</td>\n",
       "      <td>09:44:00</td>\n",
       "      <td>2018-06-01 09:44:00.4020</td>\n",
       "      <td>2018-06-01</td>\n",
       "      <td>09:46:44</td>\n",
       "      <td>2018-06-01 09:46:44.6830</td>\n",
       "      <td>164</td>\n",
       "    </tr>\n",
       "    <tr>\n",
       "      <th>4</th>\n",
       "      <td>1977.0</td>\n",
       "      <td>0.966462</td>\n",
       "      <td>40.727596</td>\n",
       "      <td>-74.044247</td>\n",
       "      <td>Hamilton Park</td>\n",
       "      <td>1</td>\n",
       "      <td>40.716247</td>\n",
       "      <td>-74.033459</td>\n",
       "      <td>Exchange Place</td>\n",
       "      <td>2018-06-01</td>\n",
       "      <td>09:59:28</td>\n",
       "      <td>2018-06-01 09:59:28.7800</td>\n",
       "      <td>2018-06-01</td>\n",
       "      <td>10:12:18</td>\n",
       "      <td>2018-06-01 10:12:18.6660</td>\n",
       "      <td>769</td>\n",
       "    </tr>\n",
       "    <tr>\n",
       "      <th>5</th>\n",
       "      <td>1984.0</td>\n",
       "      <td>0.374889</td>\n",
       "      <td>40.712419</td>\n",
       "      <td>-74.038526</td>\n",
       "      <td>Morris Canal</td>\n",
       "      <td>1</td>\n",
       "      <td>40.716247</td>\n",
       "      <td>-74.033459</td>\n",
       "      <td>Exchange Place</td>\n",
       "      <td>2018-06-01</td>\n",
       "      <td>10:33:02</td>\n",
       "      <td>2018-06-01 10:33:02.1100</td>\n",
       "      <td>2018-06-01</td>\n",
       "      <td>10:37:18</td>\n",
       "      <td>2018-06-01 10:37:18.1230</td>\n",
       "      <td>256</td>\n",
       "    </tr>\n",
       "    <tr>\n",
       "      <th>6</th>\n",
       "      <td>1988.0</td>\n",
       "      <td>0.398911</td>\n",
       "      <td>40.716490</td>\n",
       "      <td>-74.041050</td>\n",
       "      <td>York St</td>\n",
       "      <td>1</td>\n",
       "      <td>40.716247</td>\n",
       "      <td>-74.033459</td>\n",
       "      <td>Exchange Place</td>\n",
       "      <td>2018-06-01</td>\n",
       "      <td>11:33:22</td>\n",
       "      <td>2018-06-01 11:33:22.6440</td>\n",
       "      <td>2018-06-01</td>\n",
       "      <td>11:37:50</td>\n",
       "      <td>2018-06-01 11:37:50.0350</td>\n",
       "      <td>267</td>\n",
       "    </tr>\n",
       "    <tr>\n",
       "      <th>7</th>\n",
       "      <td>1976.0</td>\n",
       "      <td>0.556987</td>\n",
       "      <td>40.719586</td>\n",
       "      <td>-74.043117</td>\n",
       "      <td>Grove St PATH</td>\n",
       "      <td>1</td>\n",
       "      <td>40.716247</td>\n",
       "      <td>-74.033459</td>\n",
       "      <td>Exchange Place</td>\n",
       "      <td>2018-06-01</td>\n",
       "      <td>12:07:49</td>\n",
       "      <td>2018-06-01 12:07:49.8830</td>\n",
       "      <td>2018-06-01</td>\n",
       "      <td>12:12:08</td>\n",
       "      <td>2018-06-01 12:12:08.0190</td>\n",
       "      <td>258</td>\n",
       "    </tr>\n",
       "    <tr>\n",
       "      <th>8</th>\n",
       "      <td>1976.0</td>\n",
       "      <td>0.287536</td>\n",
       "      <td>40.712774</td>\n",
       "      <td>-74.036486</td>\n",
       "      <td>Essex Light Rail</td>\n",
       "      <td>1</td>\n",
       "      <td>40.716247</td>\n",
       "      <td>-74.033459</td>\n",
       "      <td>Exchange Place</td>\n",
       "      <td>2018-06-01</td>\n",
       "      <td>12:53:24</td>\n",
       "      <td>2018-06-01 12:53:24.8470</td>\n",
       "      <td>2018-06-01</td>\n",
       "      <td>13:14:11</td>\n",
       "      <td>2018-06-01 13:14:11.8770</td>\n",
       "      <td>1247</td>\n",
       "    </tr>\n",
       "    <tr>\n",
       "      <th>9</th>\n",
       "      <td>1989.0</td>\n",
       "      <td>1.900129</td>\n",
       "      <td>40.725340</td>\n",
       "      <td>-74.067622</td>\n",
       "      <td>McGinley Square</td>\n",
       "      <td>1</td>\n",
       "      <td>40.716247</td>\n",
       "      <td>-74.033459</td>\n",
       "      <td>Exchange Place</td>\n",
       "      <td>2018-06-01</td>\n",
       "      <td>13:21:09</td>\n",
       "      <td>2018-06-01 13:21:09.2160</td>\n",
       "      <td>2018-06-01</td>\n",
       "      <td>13:33:50</td>\n",
       "      <td>2018-06-01 13:33:50.9930</td>\n",
       "      <td>761</td>\n",
       "    </tr>\n",
       "  </tbody>\n",
       "</table>\n",
       "</div>"
      ],
      "text/plain": [
       "   birth year  distance between stations (mi)  end station latitude  \\\n",
       "0      1991.0                        0.504560             40.714584   \n",
       "1      1989.0                        0.374889             40.712419   \n",
       "2      1990.0                        0.757575             40.727224   \n",
       "3      1993.0                        0.374889             40.712419   \n",
       "4      1977.0                        0.966462             40.727596   \n",
       "5      1984.0                        0.374889             40.712419   \n",
       "6      1988.0                        0.398911             40.716490   \n",
       "7      1976.0                        0.556987             40.719586   \n",
       "8      1976.0                        0.287536             40.712774   \n",
       "9      1989.0                        1.900129             40.725340   \n",
       "\n",
       "   end station longitude  end station name  gender  start station latitude  \\\n",
       "0             -74.042817  Marin Light Rail       1               40.716247   \n",
       "1             -74.038526      Morris Canal       2               40.716247   \n",
       "2             -74.033759      Newport PATH       1               40.716247   \n",
       "3             -74.038526      Morris Canal       1               40.716247   \n",
       "4             -74.044247     Hamilton Park       1               40.716247   \n",
       "5             -74.038526      Morris Canal       1               40.716247   \n",
       "6             -74.041050           York St       1               40.716247   \n",
       "7             -74.043117     Grove St PATH       1               40.716247   \n",
       "8             -74.036486  Essex Light Rail       1               40.716247   \n",
       "9             -74.067622   McGinley Square       1               40.716247   \n",
       "\n",
       "   start station longitude start station name   startdate starthour  \\\n",
       "0               -74.033459     Exchange Place  2018-06-01  07:07:00   \n",
       "1               -74.033459     Exchange Place  2018-06-01  08:24:43   \n",
       "2               -74.033459     Exchange Place  2018-06-01  09:17:49   \n",
       "3               -74.033459     Exchange Place  2018-06-01  09:44:00   \n",
       "4               -74.033459     Exchange Place  2018-06-01  09:59:28   \n",
       "5               -74.033459     Exchange Place  2018-06-01  10:33:02   \n",
       "6               -74.033459     Exchange Place  2018-06-01  11:33:22   \n",
       "7               -74.033459     Exchange Place  2018-06-01  12:07:49   \n",
       "8               -74.033459     Exchange Place  2018-06-01  12:53:24   \n",
       "9               -74.033459     Exchange Place  2018-06-01  13:21:09   \n",
       "\n",
       "                  starttime    stopdate  stophour                  stoptime  \\\n",
       "0  2018-06-01 07:07:00.2990  2018-06-01  07:12:30  2018-06-01 07:12:30.2220   \n",
       "1  2018-06-01 08:24:43.8490  2018-06-01  08:29:03  2018-06-01 08:29:03.8450   \n",
       "2  2018-06-01 09:17:49.5730  2018-06-01  09:29:16  2018-06-01 09:29:16.1770   \n",
       "3  2018-06-01 09:44:00.4020  2018-06-01  09:46:44  2018-06-01 09:46:44.6830   \n",
       "4  2018-06-01 09:59:28.7800  2018-06-01  10:12:18  2018-06-01 10:12:18.6660   \n",
       "5  2018-06-01 10:33:02.1100  2018-06-01  10:37:18  2018-06-01 10:37:18.1230   \n",
       "6  2018-06-01 11:33:22.6440  2018-06-01  11:37:50  2018-06-01 11:37:50.0350   \n",
       "7  2018-06-01 12:07:49.8830  2018-06-01  12:12:08  2018-06-01 12:12:08.0190   \n",
       "8  2018-06-01 12:53:24.8470  2018-06-01  13:14:11  2018-06-01 13:14:11.8770   \n",
       "9  2018-06-01 13:21:09.2160  2018-06-01  13:33:50  2018-06-01 13:33:50.9930   \n",
       "\n",
       "   tripduration  \n",
       "0           329  \n",
       "1           259  \n",
       "2           686  \n",
       "3           164  \n",
       "4           769  \n",
       "5           256  \n",
       "6           267  \n",
       "7           258  \n",
       "8          1247  \n",
       "9           761  "
      ]
     },
     "execution_count": 85,
     "metadata": {},
     "output_type": "execute_result"
    }
   ],
   "source": [
    "df.head(10)"
   ]
  },
  {
   "cell_type": "code",
   "execution_count": null,
   "metadata": {
    "collapsed": true
   },
   "outputs": [],
   "source": [
    "df.to_excel('CitiBikeClean.xlsx')"
   ]
  },
  {
   "cell_type": "code",
   "execution_count": 74,
   "metadata": {},
   "outputs": [
    {
     "name": "stdout",
     "output_type": "stream",
     "text": [
      "40937\n",
      "34455\n",
      "23634\n",
      "17109\n",
      "15104\n",
      "12677\n",
      "15898\n",
      "23582\n",
      "34919\n",
      "33119\n",
      "35472\n",
      "33573\n",
      "32060\n"
     ]
    }
   ],
   "source": [
    "month_df = [june2018_df, may2018_df, april2018_df, \n",
    "             march2018_df, feb2018_df, jan2018_df, \n",
    "             dec2017_df, nov2017_df, oct2017_df, \n",
    "             sep2017_df, aug2017_df, july2017_df, june2017_df]\n",
    "\n",
    "for df in month_df:\n",
    "    print(len(df))"
   ]
  },
  {
   "cell_type": "code",
   "execution_count": 68,
   "metadata": {},
   "outputs": [],
   "source": []
  },
  {
   "cell_type": "code",
   "execution_count": 73,
   "metadata": {},
   "outputs": [
    {
     "data": {
      "text/plain": [
       "nan"
      ]
     },
     "execution_count": 73,
     "metadata": {},
     "output_type": "execute_result"
    }
   ],
   "source": [
    "df_clean['end station latitude'].max()"
   ]
  },
  {
   "cell_type": "code",
   "execution_count": 76,
   "metadata": {},
   "outputs": [
    {
     "name": "stdout",
     "output_type": "stream",
     "text": [
      "32060 0\n"
     ]
    }
   ],
   "source": [
    "print(len(df), len(df_clean))"
   ]
  },
  {
   "cell_type": "code",
   "execution_count": 42,
   "metadata": {},
   "outputs": [],
   "source": [
    "# df_clean.to_excel('CitiBikeCLEANER.xlsx')"
   ]
  },
  {
   "cell_type": "code",
   "execution_count": null,
   "metadata": {},
   "outputs": [],
   "source": [
    "df_clean.head(-50)"
   ]
  },
  {
   "cell_type": "code",
   "execution_count": null,
   "metadata": {
    "collapsed": true
   },
   "outputs": [],
   "source": []
  }
 ],
 "metadata": {
  "kernelspec": {
   "display_name": "Python 3",
   "language": "python",
   "name": "python3"
  },
  "language_info": {
   "codemirror_mode": {
    "name": "ipython",
    "version": 3
   },
   "file_extension": ".py",
   "mimetype": "text/x-python",
   "name": "python",
   "nbconvert_exporter": "python",
   "pygments_lexer": "ipython3",
   "version": "3.6.3"
  }
 },
 "nbformat": 4,
 "nbformat_minor": 2
}
