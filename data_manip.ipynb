{
 "cells": [
  {
   "cell_type": "code",
   "execution_count": 1,
   "metadata": {
    "collapsed": true
   },
   "outputs": [],
   "source": [
    "import pandas as pd\n",
    "from datetime import datetime\n",
    "from geopy.distance import geodesic"
   ]
  },
  {
   "cell_type": "code",
   "execution_count": 46,
   "metadata": {},
   "outputs": [],
   "source": [
    "csv_list = ['JC-201806-citibike-tripdata.csv', 'JC-201805-citibike-tripdata.csv', 'JC-201804-citibike-tripdata.csv', \n",
    "            '201803_citibikejc_tripdata.csv', '201802_citibikejc_tripdata.csv', '201801_citibikejc_tripdata.csv',\n",
    "            'JC-201712-citibike-tripdata.csv', 'JC-201711-citibike-tripdata.csv', 'JC-201710-citibike-tripdata.csv', \n",
    "            'JC-201709-citibike-tripdata.csv', 'JC-201708 citibike-tripdata.csv', 'JC-201707-citibike-tripdata.csv',\n",
    "            'JC-201706-citibike-tripdata.csv',\n",
    "           ]\n",
    "\n",
    "df_list = []\n",
    "\n",
    "for csv in csv_list:\n",
    "    \n",
    "    starttime = []\n",
    "    stoptime = []\n",
    "    startdate = []\n",
    "    stopdate = []\n",
    "\n",
    "    df = pd.read_csv(csv)\n",
    "    \n",
    "    for index, row in df.iterrows():\n",
    "        old_start_date = row['starttime']\n",
    "        old_stop_date = row['stoptime']\n",
    "        \n",
    "        startdate.append(old_start_date[0:10])\n",
    "        starttime.append(old_start_date[11:19])\n",
    "        stopdate.append(old_stop_date[0:10])\n",
    "        stoptime.append(old_stop_date[11:19])\n",
    "\n",
    "    df['startdate'] = startdate \n",
    "    df['stopdate'] = stopdate\n",
    "    df['starttime'] = starttime\n",
    "    df['stoptime'] = stoptime\n",
    "    \n",
    "    df_list.append(df)\n"
   ]
  },
  {
   "cell_type": "code",
   "execution_count": 47,
   "metadata": {
    "collapsed": true
   },
   "outputs": [],
   "source": [
    "[june2018_df, may2018_df, april2018_df, \n",
    " march2018_df, feb2018_df, jan2018_df, \n",
    " dec2017_df, nov2017_df, oct2017_df, \n",
    " sep2017_df, aug2017_df, july2017_df, june2017_df] = df_list"
   ]
  },
  {
   "cell_type": "code",
   "execution_count": 48,
   "metadata": {
    "collapsed": true
   },
   "outputs": [],
   "source": [
    "df = pd.concat(df_list)\n",
    "df = df.drop(['end station id', 'start station id', 'usertype', 'bikeid', 'name_localizedValue0', 'birth year', 'gender'], axis=1)\n",
    "df = df.reset_index(drop=True)"
   ]
  },
  {
   "cell_type": "code",
   "execution_count": 50,
   "metadata": {},
   "outputs": [],
   "source": [
    "distance = []\n",
    "\n",
    "for index, row in df.iterrows():\n",
    "    start = row['start station latitude'], row['start station longitude']\n",
    "    end = row['end station latitude'], row['end station longitude']\n",
    "    distance.append(geodesic(start, end).miles)\n",
    "\n"
   ]
  },
  {
   "cell_type": "code",
   "execution_count": 51,
   "metadata": {},
   "outputs": [
    {
     "name": "stdout",
     "output_type": "stream",
     "text": [
      "352539 352539\n"
     ]
    }
   ],
   "source": [
    "print(len(distance), len(df))"
   ]
  },
  {
   "cell_type": "code",
   "execution_count": 52,
   "metadata": {
    "collapsed": true
   },
   "outputs": [],
   "source": [
    "df['distance between stations (mi)'] = distance"
   ]
  },
  {
   "cell_type": "code",
   "execution_count": 53,
   "metadata": {},
   "outputs": [
    {
     "data": {
      "text/html": [
       "<div>\n",
       "<style>\n",
       "    .dataframe thead tr:only-child th {\n",
       "        text-align: right;\n",
       "    }\n",
       "\n",
       "    .dataframe thead th {\n",
       "        text-align: left;\n",
       "    }\n",
       "\n",
       "    .dataframe tbody tr th {\n",
       "        vertical-align: top;\n",
       "    }\n",
       "</style>\n",
       "<table border=\"1\" class=\"dataframe\">\n",
       "  <thead>\n",
       "    <tr style=\"text-align: right;\">\n",
       "      <th></th>\n",
       "      <th>end station latitude</th>\n",
       "      <th>end station longitude</th>\n",
       "      <th>end station name</th>\n",
       "      <th>start station latitude</th>\n",
       "      <th>start station longitude</th>\n",
       "      <th>start station name</th>\n",
       "      <th>startdate</th>\n",
       "      <th>starttime</th>\n",
       "      <th>stopdate</th>\n",
       "      <th>stoptime</th>\n",
       "      <th>tripduration</th>\n",
       "      <th>distance between stations (mi)</th>\n",
       "    </tr>\n",
       "  </thead>\n",
       "  <tbody>\n",
       "    <tr>\n",
       "      <th>0</th>\n",
       "      <td>40.714584</td>\n",
       "      <td>-74.042817</td>\n",
       "      <td>Marin Light Rail</td>\n",
       "      <td>40.716247</td>\n",
       "      <td>-74.033459</td>\n",
       "      <td>Exchange Place</td>\n",
       "      <td>2018-06-01</td>\n",
       "      <td>07:07:00</td>\n",
       "      <td>2018-06-01</td>\n",
       "      <td>07:12:30</td>\n",
       "      <td>329</td>\n",
       "      <td>0.504560</td>\n",
       "    </tr>\n",
       "    <tr>\n",
       "      <th>1</th>\n",
       "      <td>40.712419</td>\n",
       "      <td>-74.038526</td>\n",
       "      <td>Morris Canal</td>\n",
       "      <td>40.716247</td>\n",
       "      <td>-74.033459</td>\n",
       "      <td>Exchange Place</td>\n",
       "      <td>2018-06-01</td>\n",
       "      <td>08:24:43</td>\n",
       "      <td>2018-06-01</td>\n",
       "      <td>08:29:03</td>\n",
       "      <td>259</td>\n",
       "      <td>0.374889</td>\n",
       "    </tr>\n",
       "    <tr>\n",
       "      <th>2</th>\n",
       "      <td>40.727224</td>\n",
       "      <td>-74.033759</td>\n",
       "      <td>Newport PATH</td>\n",
       "      <td>40.716247</td>\n",
       "      <td>-74.033459</td>\n",
       "      <td>Exchange Place</td>\n",
       "      <td>2018-06-01</td>\n",
       "      <td>09:17:49</td>\n",
       "      <td>2018-06-01</td>\n",
       "      <td>09:29:16</td>\n",
       "      <td>686</td>\n",
       "      <td>0.757575</td>\n",
       "    </tr>\n",
       "    <tr>\n",
       "      <th>3</th>\n",
       "      <td>40.712419</td>\n",
       "      <td>-74.038526</td>\n",
       "      <td>Morris Canal</td>\n",
       "      <td>40.716247</td>\n",
       "      <td>-74.033459</td>\n",
       "      <td>Exchange Place</td>\n",
       "      <td>2018-06-01</td>\n",
       "      <td>09:44:00</td>\n",
       "      <td>2018-06-01</td>\n",
       "      <td>09:46:44</td>\n",
       "      <td>164</td>\n",
       "      <td>0.374889</td>\n",
       "    </tr>\n",
       "    <tr>\n",
       "      <th>4</th>\n",
       "      <td>40.727596</td>\n",
       "      <td>-74.044247</td>\n",
       "      <td>Hamilton Park</td>\n",
       "      <td>40.716247</td>\n",
       "      <td>-74.033459</td>\n",
       "      <td>Exchange Place</td>\n",
       "      <td>2018-06-01</td>\n",
       "      <td>09:59:28</td>\n",
       "      <td>2018-06-01</td>\n",
       "      <td>10:12:18</td>\n",
       "      <td>769</td>\n",
       "      <td>0.966462</td>\n",
       "    </tr>\n",
       "  </tbody>\n",
       "</table>\n",
       "</div>"
      ],
      "text/plain": [
       "   end station latitude  end station longitude  end station name  \\\n",
       "0             40.714584             -74.042817  Marin Light Rail   \n",
       "1             40.712419             -74.038526      Morris Canal   \n",
       "2             40.727224             -74.033759      Newport PATH   \n",
       "3             40.712419             -74.038526      Morris Canal   \n",
       "4             40.727596             -74.044247     Hamilton Park   \n",
       "\n",
       "   start station latitude  start station longitude start station name  \\\n",
       "0               40.716247               -74.033459     Exchange Place   \n",
       "1               40.716247               -74.033459     Exchange Place   \n",
       "2               40.716247               -74.033459     Exchange Place   \n",
       "3               40.716247               -74.033459     Exchange Place   \n",
       "4               40.716247               -74.033459     Exchange Place   \n",
       "\n",
       "    startdate starttime    stopdate  stoptime  tripduration  \\\n",
       "0  2018-06-01  07:07:00  2018-06-01  07:12:30           329   \n",
       "1  2018-06-01  08:24:43  2018-06-01  08:29:03           259   \n",
       "2  2018-06-01  09:17:49  2018-06-01  09:29:16           686   \n",
       "3  2018-06-01  09:44:00  2018-06-01  09:46:44           164   \n",
       "4  2018-06-01  09:59:28  2018-06-01  10:12:18           769   \n",
       "\n",
       "   distance between stations (mi)  \n",
       "0                        0.504560  \n",
       "1                        0.374889  \n",
       "2                        0.757575  \n",
       "3                        0.374889  \n",
       "4                        0.966462  "
      ]
     },
     "execution_count": 53,
     "metadata": {},
     "output_type": "execute_result"
    }
   ],
   "source": [
    "df.head()"
   ]
  },
  {
   "cell_type": "code",
   "execution_count": null,
   "metadata": {
    "collapsed": true
   },
   "outputs": [],
   "source": [
    "#  df.to_excel('CitiBikeClean.xlsx')"
   ]
  },
  {
   "cell_type": "code",
   "execution_count": null,
   "metadata": {},
   "outputs": [],
   "source": [
    "for df in df_list:\n",
    "    print(df.sum())"
   ]
  },
  {
   "cell_type": "code",
   "execution_count": null,
   "metadata": {},
   "outputs": [],
   "source": [
    "df.sum()"
   ]
  },
  {
   "cell_type": "code",
   "execution_count": null,
   "metadata": {
    "collapsed": true
   },
   "outputs": [],
   "source": [
    "df.count()"
   ]
  },
  {
   "cell_type": "code",
   "execution_count": null,
   "metadata": {
    "collapsed": true
   },
   "outputs": [],
   "source": []
  }
 ],
 "metadata": {
  "kernelspec": {
   "display_name": "Python 3",
   "language": "python",
   "name": "python3"
  },
  "language_info": {
   "codemirror_mode": {
    "name": "ipython",
    "version": 3
   },
   "file_extension": ".py",
   "mimetype": "text/x-python",
   "name": "python",
   "nbconvert_exporter": "python",
   "pygments_lexer": "ipython3",
   "version": "3.6.3"
  }
 },
 "nbformat": 4,
 "nbformat_minor": 2
}
