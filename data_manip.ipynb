{
 "cells": [
  {
   "cell_type": "code",
   "execution_count": 1,
   "metadata": {
    "collapsed": true
   },
   "outputs": [],
   "source": [
    "import pandas as pd\n",
    "from datetime import datetime\n",
    "from geopy.distance import geodesic"
   ]
  },
  {
   "cell_type": "code",
   "execution_count": 23,
   "metadata": {},
   "outputs": [],
   "source": [
    "csv_list = ['../old data/JC-201806-citibike-tripdata.csv', '../old data/JC-201805-citibike-tripdata.csv', '../old data/JC-201804-citibike-tripdata.csv', \n",
    "            '../old data/201803_citibikejc_tripdata.csv', '../old data/201802_citibikejc_tripdata.csv', '../old data/201801_citibikejc_tripdata.csv',\n",
    "            '../old data/JC-201712-citibike-tripdata.csv', '../old data/JC-201711-citibike-tripdata.csv', '../old data/JC-201710-citibike-tripdata.csv', \n",
    "            '../old data/JC-201709-citibike-tripdata.csv', '../old data/JC-201708 citibike-tripdata.csv', '../old data/JC-201707-citibike-tripdata.csv',\n",
    "            '../old data/JC-201706-citibike-tripdata.csv',\n",
    "           ]\n",
    "\n",
    "df_list = []\n",
    "\n",
    "for csv in csv_list:\n",
    "    \n",
    "    starttime = []\n",
    "    stoptime = []\n",
    "    startdate = []\n",
    "    stopdate = []\n",
    "\n",
    "    df = pd.read_csv(csv)\n",
    "    \n",
    "    for index, row in df.iterrows():\n",
    "        old_start_date = row['starttime']\n",
    "        old_stop_date = row['stoptime']\n",
    "        \n",
    "        startdate.append(old_start_date[0:10])\n",
    "        starttime.append(old_start_date[11:19])\n",
    "        stopdate.append(old_stop_date[0:10])\n",
    "        stoptime.append(old_stop_date[11:19])\n",
    "\n",
    "    df['startdate'] = startdate\n",
    "    df['stopdate'] = stopdate\n",
    "    df['starttime'] = starttime\n",
    "    df['stoptime'] = stoptime\n",
    "    \n",
    "    df_list.append(df)\n"
   ]
  },
  {
   "cell_type": "code",
   "execution_count": 24,
   "metadata": {},
   "outputs": [],
   "source": [
    "for df in df_list:\n",
    "    \n",
    "    distance = []\n",
    "    \n",
    "    for index, row in df.iterrows():\n",
    "        start = row['start station latitude'], row['start station longitude']\n",
    "        end = row['end station latitude'], row['end station longitude']\n",
    "        distance.append(geodesic(start, end).miles)\n",
    "        \n",
    "    df['distance between stations (mi)'] = distance\n"
   ]
  },
  {
   "cell_type": "code",
   "execution_count": 25,
   "metadata": {
    "collapsed": true
   },
   "outputs": [],
   "source": [
    "[june2018_df, may2018_df, april2018_df, \n",
    " march2018_df, feb2018_df, jan2018_df, \n",
    " dec2017_df, nov2017_df, oct2017_df, \n",
    " sep2017_df, aug2017_df, july2017_df, june2017_df] = df_list"
   ]
  },
  {
   "cell_type": "code",
   "execution_count": 27,
   "metadata": {},
   "outputs": [
    {
     "data": {
      "text/html": [
       "<div>\n",
       "<style>\n",
       "    .dataframe thead tr:only-child th {\n",
       "        text-align: right;\n",
       "    }\n",
       "\n",
       "    .dataframe thead th {\n",
       "        text-align: left;\n",
       "    }\n",
       "\n",
       "    .dataframe tbody tr th {\n",
       "        vertical-align: top;\n",
       "    }\n",
       "</style>\n",
       "<table border=\"1\" class=\"dataframe\">\n",
       "  <thead>\n",
       "    <tr style=\"text-align: right;\">\n",
       "      <th></th>\n",
       "      <th>tripduration</th>\n",
       "      <th>starttime</th>\n",
       "      <th>stoptime</th>\n",
       "      <th>start station id</th>\n",
       "      <th>start station name</th>\n",
       "      <th>start station latitude</th>\n",
       "      <th>start station longitude</th>\n",
       "      <th>end station id</th>\n",
       "      <th>end station name</th>\n",
       "      <th>end station latitude</th>\n",
       "      <th>end station longitude</th>\n",
       "      <th>bikeid</th>\n",
       "      <th>usertype</th>\n",
       "      <th>birth year</th>\n",
       "      <th>gender</th>\n",
       "      <th>startdate</th>\n",
       "      <th>stopdate</th>\n",
       "      <th>distance between stations (mi)</th>\n",
       "    </tr>\n",
       "  </thead>\n",
       "  <tbody>\n",
       "    <tr>\n",
       "      <th>0</th>\n",
       "      <td>364</td>\n",
       "      <td>00:02:01</td>\n",
       "      <td>00:08:05</td>\n",
       "      <td>3183</td>\n",
       "      <td>Exchange Place</td>\n",
       "      <td>40.716247</td>\n",
       "      <td>-74.033459</td>\n",
       "      <td>3276</td>\n",
       "      <td>Marin Light Rail</td>\n",
       "      <td>40.714584</td>\n",
       "      <td>-74.042817</td>\n",
       "      <td>29670</td>\n",
       "      <td>Subscriber</td>\n",
       "      <td>1989.0</td>\n",
       "      <td>1</td>\n",
       "      <td>2017-09-01</td>\n",
       "      <td>2017-09-01</td>\n",
       "      <td>0.504560</td>\n",
       "    </tr>\n",
       "    <tr>\n",
       "      <th>1</th>\n",
       "      <td>357</td>\n",
       "      <td>00:08:12</td>\n",
       "      <td>00:14:09</td>\n",
       "      <td>3187</td>\n",
       "      <td>Warren St</td>\n",
       "      <td>40.721124</td>\n",
       "      <td>-74.038051</td>\n",
       "      <td>3199</td>\n",
       "      <td>Newport Pkwy</td>\n",
       "      <td>40.728745</td>\n",
       "      <td>-74.032108</td>\n",
       "      <td>26163</td>\n",
       "      <td>Subscriber</td>\n",
       "      <td>1980.0</td>\n",
       "      <td>1</td>\n",
       "      <td>2017-09-01</td>\n",
       "      <td>2017-09-01</td>\n",
       "      <td>0.611454</td>\n",
       "    </tr>\n",
       "    <tr>\n",
       "      <th>2</th>\n",
       "      <td>432</td>\n",
       "      <td>00:10:12</td>\n",
       "      <td>00:17:24</td>\n",
       "      <td>3195</td>\n",
       "      <td>Sip Ave</td>\n",
       "      <td>40.730743</td>\n",
       "      <td>-74.063784</td>\n",
       "      <td>3280</td>\n",
       "      <td>Astor Place</td>\n",
       "      <td>40.719282</td>\n",
       "      <td>-74.071262</td>\n",
       "      <td>26273</td>\n",
       "      <td>Subscriber</td>\n",
       "      <td>1988.0</td>\n",
       "      <td>1</td>\n",
       "      <td>2017-09-01</td>\n",
       "      <td>2017-09-01</td>\n",
       "      <td>0.882874</td>\n",
       "    </tr>\n",
       "    <tr>\n",
       "      <th>3</th>\n",
       "      <td>934</td>\n",
       "      <td>00:10:11</td>\n",
       "      <td>00:25:46</td>\n",
       "      <td>3272</td>\n",
       "      <td>Jersey &amp; 3rd</td>\n",
       "      <td>40.723332</td>\n",
       "      <td>-74.045953</td>\n",
       "      <td>3207</td>\n",
       "      <td>Oakland Ave</td>\n",
       "      <td>40.737604</td>\n",
       "      <td>-74.052478</td>\n",
       "      <td>26297</td>\n",
       "      <td>Subscriber</td>\n",
       "      <td>1991.0</td>\n",
       "      <td>1</td>\n",
       "      <td>2017-09-01</td>\n",
       "      <td>2017-09-01</td>\n",
       "      <td>1.042684</td>\n",
       "    </tr>\n",
       "    <tr>\n",
       "      <th>4</th>\n",
       "      <td>932</td>\n",
       "      <td>00:10:16</td>\n",
       "      <td>00:25:48</td>\n",
       "      <td>3272</td>\n",
       "      <td>Jersey &amp; 3rd</td>\n",
       "      <td>40.723332</td>\n",
       "      <td>-74.045953</td>\n",
       "      <td>3207</td>\n",
       "      <td>Oakland Ave</td>\n",
       "      <td>40.737604</td>\n",
       "      <td>-74.052478</td>\n",
       "      <td>29247</td>\n",
       "      <td>Subscriber</td>\n",
       "      <td>1993.0</td>\n",
       "      <td>2</td>\n",
       "      <td>2017-09-01</td>\n",
       "      <td>2017-09-01</td>\n",
       "      <td>1.042684</td>\n",
       "    </tr>\n",
       "  </tbody>\n",
       "</table>\n",
       "</div>"
      ],
      "text/plain": [
       "   tripduration starttime  stoptime  start station id start station name  \\\n",
       "0           364  00:02:01  00:08:05              3183     Exchange Place   \n",
       "1           357  00:08:12  00:14:09              3187          Warren St   \n",
       "2           432  00:10:12  00:17:24              3195            Sip Ave   \n",
       "3           934  00:10:11  00:25:46              3272       Jersey & 3rd   \n",
       "4           932  00:10:16  00:25:48              3272       Jersey & 3rd   \n",
       "\n",
       "   start station latitude  start station longitude  end station id  \\\n",
       "0               40.716247               -74.033459            3276   \n",
       "1               40.721124               -74.038051            3199   \n",
       "2               40.730743               -74.063784            3280   \n",
       "3               40.723332               -74.045953            3207   \n",
       "4               40.723332               -74.045953            3207   \n",
       "\n",
       "   end station name  end station latitude  end station longitude  bikeid  \\\n",
       "0  Marin Light Rail             40.714584             -74.042817   29670   \n",
       "1      Newport Pkwy             40.728745             -74.032108   26163   \n",
       "2       Astor Place             40.719282             -74.071262   26273   \n",
       "3       Oakland Ave             40.737604             -74.052478   26297   \n",
       "4       Oakland Ave             40.737604             -74.052478   29247   \n",
       "\n",
       "     usertype  birth year  gender   startdate    stopdate  \\\n",
       "0  Subscriber      1989.0       1  2017-09-01  2017-09-01   \n",
       "1  Subscriber      1980.0       1  2017-09-01  2017-09-01   \n",
       "2  Subscriber      1988.0       1  2017-09-01  2017-09-01   \n",
       "3  Subscriber      1991.0       1  2017-09-01  2017-09-01   \n",
       "4  Subscriber      1993.0       2  2017-09-01  2017-09-01   \n",
       "\n",
       "   distance between stations (mi)  \n",
       "0                        0.504560  \n",
       "1                        0.611454  \n",
       "2                        0.882874  \n",
       "3                        1.042684  \n",
       "4                        1.042684  "
      ]
     },
     "execution_count": 27,
     "metadata": {},
     "output_type": "execute_result"
    }
   ],
   "source": [
    "sep2017_df.head()"
   ]
  },
  {
   "cell_type": "code",
   "execution_count": 20,
   "metadata": {
    "collapsed": true
   },
   "outputs": [],
   "source": [
    "df = pd.concat(df_list)\n",
    "df = df.drop(['end station id', 'start station id', 'usertype', 'bikeid', 'name_localizedValue0', 'birth year', 'gender'], axis=1)\n",
    "df = df.reset_index(drop=True)"
   ]
  },
  {
   "cell_type": "code",
   "execution_count": null,
   "metadata": {
    "collapsed": true
   },
   "outputs": [],
   "source": [
    "#  df.to_excel('CitiBikeClean.xlsx')"
   ]
  },
  {
   "cell_type": "code",
   "execution_count": 28,
   "metadata": {},
   "outputs": [
    {
     "name": "stdout",
     "output_type": "stream",
     "text": [
      "0.6247389673532711\n",
      "0.6149270836851513\n",
      "0.5984788573571053\n",
      "0.5801936366999757\n",
      "0.582580444745335\n",
      "0.5726492404001396\n",
      "0.5744127329471395\n",
      "0.6019191880219191\n",
      "6.642094163935306\n",
      "99.69740171956717\n",
      "21.302415768059124\n",
      "0.6563804838062786\n",
      "0.6590275839749076\n"
     ]
    }
   ],
   "source": [
    "month_df = [june2018_df, may2018_df, april2018_df, \n",
    "             march2018_df, feb2018_df, jan2018_df, \n",
    "             dec2017_df, nov2017_df, oct2017_df, \n",
    "             sep2017_df, aug2017_df, july2017_df, june2017_df]\n",
    "\n",
    "for df in month_df:\n",
    "    print(df['distance between stations (mi)'].mean())"
   ]
  },
  {
   "cell_type": "code",
   "execution_count": 35,
   "metadata": {},
   "outputs": [
    {
     "data": {
      "text/plain": [
       "5389.7640751643867"
      ]
     },
     "execution_count": 35,
     "metadata": {},
     "output_type": "execute_result"
    }
   ],
   "source": [
    "sep2017_df['distance between stations (mi)'].max()"
   ]
  },
  {
   "cell_type": "code",
   "execution_count": 36,
   "metadata": {
    "collapsed": true
   },
   "outputs": [],
   "source": [
    "df_clean = df.dropna()"
   ]
  },
  {
   "cell_type": "code",
   "execution_count": null,
   "metadata": {
    "collapsed": true
   },
   "outputs": [],
   "source": [
    "df_clean.to_e"
   ]
  }
 ],
 "metadata": {
  "kernelspec": {
   "display_name": "Python 3",
   "language": "python",
   "name": "python3"
  },
  "language_info": {
   "codemirror_mode": {
    "name": "ipython",
    "version": 3
   },
   "file_extension": ".py",
   "mimetype": "text/x-python",
   "name": "python",
   "nbconvert_exporter": "python",
   "pygments_lexer": "ipython3",
   "version": "3.6.3"
  }
 },
 "nbformat": 4,
 "nbformat_minor": 2
}
